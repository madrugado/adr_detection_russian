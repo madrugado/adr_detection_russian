{
 "cells": [
  {
   "cell_type": "code",
   "execution_count": 1,
   "metadata": {
    "collapsed": false
   },
   "outputs": [
    {
     "name": "stderr",
     "output_type": "stream",
     "text": [
      "/usr/local/lib/python3.6/dist-packages/h5py/__init__.py:36: FutureWarning: Conversion of the second argument of issubdtype from `float` to `np.floating` is deprecated. In future, it will be treated as `np.float64 == np.dtype(float).type`.\n",
      "  from ._conv import register_converters as _register_converters\n",
      "Using TensorFlow backend.\n",
      "/usr/lib/python3.6/importlib/_bootstrap.py:219: RuntimeWarning: compiletime version 3.5 of module 'tensorflow.python.framework.fast_tensor_util' does not match runtime version 3.6\n",
      "  return f(*args, **kwds)\n"
     ]
    }
   ],
   "source": [
    "import numpy as np\n",
    "import keras\n",
    "from keras.models import Sequential, Model\n",
    "from keras.layers import Dense, Dropout, Activation, Input, Embedding, \n",
    "from keras.layers import Conv1D, GlobalMaxPool1D, MaxPool1D, LSTM, SpatialDropout1D\n",
    "from keras.preprocessing.text import Tokenizer\n",
    "from keras.preprocessing.sequence import pad_sequences"
   ]
  },
  {
   "cell_type": "code",
   "execution_count": 2,
   "metadata": {
    "collapsed": true
   },
   "outputs": [],
   "source": [
    "from classification import *"
   ]
  },
  {
   "cell_type": "code",
   "execution_count": 3,
   "metadata": {
    "collapsed": false
   },
   "outputs": [
    {
     "name": "stdout",
     "output_type": "stream",
     "text": [
      "BoW results:\n",
      "\n",
      "             precision    recall  f1-score   support\n",
      "\n",
      "          1      0.376     0.549     0.446       711\n",
      "          2      0.210     0.316     0.252       740\n",
      "          3      0.228     0.367     0.281      1184\n",
      "          4      0.343     0.402     0.370      3454\n",
      "          5      0.826     0.671     0.741     10687\n",
      "\n",
      "avg / total      0.638     0.573     0.598     16776\n",
      "\n",
      "0.39676162260040143\n",
      "0.4607718067833824\n",
      "0.41812108531997183\n"
     ]
    }
   ],
   "source": [
    "classification_bow()"
   ]
  },
  {
   "cell_type": "code",
   "execution_count": 4,
   "metadata": {
    "collapsed": false
   },
   "outputs": [
    {
     "name": "stdout",
     "output_type": "stream",
     "text": [
      "aspects results:\n",
      "\n",
      "             precision    recall  f1-score   support\n",
      "\n",
      "          1      0.113     0.654     0.193       711\n",
      "          2      0.084     0.134     0.104       740\n",
      "          3      0.120     0.112     0.116      1184\n",
      "          4      0.284     0.324     0.303      3454\n",
      "          5      0.759     0.458     0.571     10687\n",
      "\n",
      "avg / total      0.559     0.400     0.447     16776\n",
      "\n",
      "0.2721458705950493\n",
      "0.3364462020635144\n",
      "0.2573202077133035\n"
     ]
    }
   ],
   "source": [
    "classification_with_aspects()"
   ]
  },
  {
   "cell_type": "code",
   "execution_count": 5,
   "metadata": {
    "collapsed": true
   },
   "outputs": [],
   "source": [
    "data = load_texts()\n",
    "data2 = np.array(load_weights())\n",
    "labels = load_rating()\n",
    "train_length = int(len(data) * 0.8)\n",
    "\n",
    "x_train = data[:train_length]\n",
    "y_train = labels[:train_length]\n",
    "x2_train = data2[:train_length]\n",
    "x_test = data[train_length:]\n",
    "y_test = labels[train_length:]\n",
    "x2_text = data2[train_length:]"
   ]
  },
  {
   "cell_type": "code",
   "execution_count": 6,
   "metadata": {
    "collapsed": true
   },
   "outputs": [],
   "source": [
    "lens = [len(str.split(x)) for x in data]"
   ]
  },
  {
   "cell_type": "code",
   "execution_count": 7,
   "metadata": {
    "collapsed": true
   },
   "outputs": [],
   "source": [
    "import matplotlib.pyplot as plt\n",
    "%matplotlib inline"
   ]
  },
  {
   "cell_type": "code",
   "execution_count": 8,
   "metadata": {
    "collapsed": false
   },
   "outputs": [
    {
     "data": {
      "text/plain": [
       "(array([8.2236e+04, 1.4220e+03, 1.6900e+02, 2.5000e+01, 1.0000e+01,\n",
       "        8.0000e+00, 1.0000e+00, 4.0000e+00, 1.0000e+00, 1.0000e+00]),\n",
       " array([  11.,  355.,  699., 1043., 1387., 1731., 2075., 2419., 2763.,\n",
       "        3107., 3451.]),\n",
       " <a list of 10 Patch objects>)"
      ]
     },
     "execution_count": 8,
     "metadata": {},
     "output_type": "execute_result"
    },
    {
     "data": {
      "image/png": "[encoded data removed]",
      "text/plain": [
       "<matplotlib.figure.Figure at 0x7f4e2034ecc0>"
      ]
     },
     "metadata": {},
     "output_type": "display_data"
    }
   ],
   "source": [
    "plt.hist(lens)"
   ]
  },
  {
   "cell_type": "code",
   "execution_count": 9,
   "metadata": {
    "collapsed": true
   },
   "outputs": [],
   "source": [
    "max_words = 2**17\n",
    "batch_size = 512\n",
    "max_len = 256"
   ]
  },
  {
   "cell_type": "code",
   "execution_count": 10,
   "metadata": {
    "collapsed": false
   },
   "outputs": [
    {
     "name": "stdout",
     "output_type": "stream",
     "text": [
      "Preparing the Tokenizer...\n"
     ]
    }
   ],
   "source": [
    "print(\"Preparing the Tokenizer...\")\n",
    "tokenizer = Tokenizer(num_words=max_words)\n",
    "tokenizer.fit_on_texts(x_train)"
   ]
  },
  {
   "cell_type": "code",
   "execution_count": 11,
   "metadata": {
    "collapsed": false
   },
   "outputs": [
    {
     "name": "stdout",
     "output_type": "stream",
     "text": [
      "Vectorizing sequence data...\n"
     ]
    }
   ],
   "source": [
    "print('Vectorizing sequence data...')\n",
    "x_train = tokenizer.texts_to_sequences(x_train)\n",
    "x_test = tokenizer.texts_to_sequences(x_test)\n"
   ]
  },
  {
   "cell_type": "code",
   "execution_count": 12,
   "metadata": {
    "collapsed": false
   },
   "outputs": [],
   "source": [
    "x_train = pad_sequences(x_train, maxlen=max_len)\n",
    "x_test = pad_sequences(x_test, maxlen=max_len)"
   ]
  },
  {
   "cell_type": "code",
   "execution_count": 13,
   "metadata": {
    "collapsed": false
   },
   "outputs": [
    {
     "name": "stdout",
     "output_type": "stream",
     "text": [
      "x_train shape: (67101, 256)\n",
      "x_test shape: (16776, 256)\n"
     ]
    }
   ],
   "source": [
    "print('x_train shape:', x_train.shape)\n",
    "print('x_test shape:', x_test.shape)"
   ]
  },
  {
   "cell_type": "code",
   "execution_count": 14,
   "metadata": {
    "collapsed": false
   },
   "outputs": [
    {
     "data": {
      "text/plain": [
       "array([[   0,    0,    0, ...,   16, 1138,  214],\n",
       "       [   0,    0,    0, ..., 1036, 2318, 3509],\n",
       "       [   0,    0,    0, ...,  912, 3202, 6288],\n",
       "       ...,\n",
       "       [   0,    0,    0, ...,    3,    2,  487],\n",
       "       [   0,    0,    0, ...,   16,  426, 1095],\n",
       "       [   0,    0,    0, ..., 1671,  551,   57]], dtype=int32)"
      ]
     },
     "execution_count": 14,
     "metadata": {},
     "output_type": "execute_result"
    }
   ],
   "source": [
    "x_train"
   ]
  },
  {
   "cell_type": "code",
   "execution_count": 15,
   "metadata": {
    "collapsed": false
   },
   "outputs": [
    {
     "name": "stdout",
     "output_type": "stream",
     "text": [
      "Convert class vector to binary class matrix (for use with categorical_crossentropy)\n",
      "y_train shape: (67101, 5)\n",
      "y_val shape: (16776, 5)\n"
     ]
    }
   ],
   "source": [
    "print('Convert class vector to binary class matrix '\n",
    "      '(for use with categorical_crossentropy)')\n",
    "num_classes = 5\n",
    "y_train = keras.utils.to_categorical([y-1 for y in y_train], num_classes)\n",
    "y_val = keras.utils.to_categorical([y-1 for y in y_test], num_classes)\n",
    "print('y_train shape:', y_train.shape)\n",
    "print('y_val shape:', y_val.shape)"
   ]
  },
  {
   "cell_type": "code",
   "execution_count": 16,
   "metadata": {
    "collapsed": false
   },
   "outputs": [
    {
     "data": {
      "text/plain": [
       "array([[0., 0., 0., 1., 0.],\n",
       "       [0., 0., 0., 0., 1.],\n",
       "       [0., 0., 0., 1., 0.],\n",
       "       ...,\n",
       "       [0., 0., 0., 0., 1.],\n",
       "       [0., 0., 0., 0., 1.],\n",
       "       [0., 0., 0., 0., 1.]])"
      ]
     },
     "execution_count": 16,
     "metadata": {},
     "output_type": "execute_result"
    }
   ],
   "source": [
    "y_val"
   ]
  },
  {
   "cell_type": "code",
   "execution_count": 52,
   "metadata": {
    "collapsed": false
   },
   "outputs": [],
   "source": [
    "main_input = Input(shape=(max_len,), dtype='int32', name='main_input')\n",
    "emb = Embedding(output_dim=128, input_dim=max_words, input_length=max_len)(main_input)\n",
    "emb = SpatialDropout1D(0.1)(emb)\n",
    "\n",
    "# tower_1 = Conv1D(64, 1, padding='same', activation='relu')(emb)\n",
    "tower_1 = Conv1D(256, 3, padding='valid', activation='relu')(emb)\n",
    "#tower_1 = LSTM(128)(tower_1)\n",
    "tower_1 = SpatialDropout1D(0.1)(tower_1)\n",
    "tower_1 = GlobalMaxPool1D()(tower_1)\n",
    "\n",
    "# tower_2 = Conv1D(64, 1, padding='same', activation='relu')(emb)\n",
    "tower_2 = Conv1D(256, 5, padding='valid', activation='relu')(emb)\n",
    "#tower_2 = LSTM(128)(tower_2)\n",
    "tower_2 = SpatialDropout1D(0.1)(tower_2)\n",
    "tower_2 = GlobalMaxPool1D()(tower_2)\n",
    "\n",
    "# tower_3 = MaxPool1D(3, padding='same')(emb)\n",
    "tower_3 = Conv1D(256, 7, padding='valid', activation='relu')(emb)\n",
    "#tower_3 = LSTM(128)(tower_3)\n",
    "tower_3 = SpatialDropout1D(0.1)(tower_3)\n",
    "tower_3 = GlobalMaxPool1D()(tower_3)\n",
    "\n",
    "aux_input = Input(shape=(50,), dtype='float', name='aux_input')\n",
    "output = keras.layers.concatenate([tower_1, tower_2, tower_3], axis=1)\n",
    "# output = Dropout(0.1)(output)\n",
    "output = keras.layers.concatenate([output, aux_input], axis=1)\n",
    "sm = Dense(num_classes, activation='softmax')(output)\n",
    "\n",
    "model = Model(inputs=[main_input, aux_input], outputs=sm)"
   ]
  },
  {
   "cell_type": "code",
   "execution_count": 53,
   "metadata": {
    "collapsed": false
   },
   "outputs": [
    {
     "data": {
      "text/plain": [
       "[<keras.engine.topology.InputLayer at 0x7f4d8f148c88>,\n",
       " <keras.layers.embeddings.Embedding at 0x7f4d8f148cf8>,\n",
       " <keras.layers.core.SpatialDropout1D at 0x7f4d8f148cc0>,\n",
       " <keras.layers.convolutional.Conv1D at 0x7f4d8f148d30>,\n",
       " <keras.layers.convolutional.Conv1D at 0x7f4dd450dc50>,\n",
       " <keras.layers.convolutional.Conv1D at 0x7f4dd4094710>,\n",
       " <keras.layers.core.SpatialDropout1D at 0x7f4d8f148dd8>,\n",
       " <keras.layers.core.SpatialDropout1D at 0x7f4dd450ae48>,\n",
       " <keras.layers.core.SpatialDropout1D at 0x7f4dd407d438>,\n",
       " <keras.layers.pooling.GlobalMaxPooling1D at 0x7f4dd4621908>,\n",
       " <keras.layers.pooling.GlobalMaxPooling1D at 0x7f4dd403ab38>,\n",
       " <keras.layers.pooling.GlobalMaxPooling1D at 0x7f4dd47035f8>,\n",
       " <keras.layers.merge.Concatenate at 0x7f4dd4715748>,\n",
       " <keras.engine.topology.InputLayer at 0x7f4dd4715e48>,\n",
       " <keras.layers.merge.Concatenate at 0x7f4dd4715dd8>,\n",
       " <keras.layers.core.Dense at 0x7f4dd46f09e8>]"
      ]
     },
     "execution_count": 53,
     "metadata": {},
     "output_type": "execute_result"
    }
   ],
   "source": [
    "model.layers"
   ]
  },
  {
   "cell_type": "code",
   "execution_count": 54,
   "metadata": {
    "collapsed": false
   },
   "outputs": [],
   "source": [
    "from keras.utils import plot_model\n",
    "plot_model(model, to_file='model.png', show_shapes=True)"
   ]
  },
  {
   "cell_type": "code",
   "execution_count": 55,
   "metadata": {
    "collapsed": false,
    "scrolled": true
   },
   "outputs": [
    {
     "data": {
      "image/svg+xml": [
       "<svg height=\"719pt\" viewBox=\"0.00 0.00 1412.00 719.00\" width=\"1412pt\" xmlns=\"http://www.w3.org/2000/svg\" xmlns:xlink=\"http://www.w3.org/1999/xlink\">\n",
       "<g class=\"graph\" id=\"graph0\" transform=\"scale(1 1) rotate(0) translate(4 715)\">\n",
       "<title>G</title>\n",
       "<polygon fill=\"white\" points=\"-4,4 -4,-715 1408,-715 1408,4 -4,4\" stroke=\"none\"/>\n",
       "<!-- 139971089697928 -->\n",
       "<g class=\"node\" id=\"node1\"><title>139971089697928</title>\n",
       "<polygon fill=\"none\" points=\"560,-664.5 560,-710.5 844,-710.5 844,-664.5 560,-664.5\" stroke=\"black\"/>\n",
       "<text font-family=\"Times,serif\" font-size=\"14.00\" text-anchor=\"middle\" x=\"633\" y=\"-683.8\">main_input: InputLayer</text>\n",
       "<polyline fill=\"none\" points=\"706,-664.5 706,-710.5 \" stroke=\"black\"/>\n",
       "<text font-family=\"Times,serif\" font-size=\"14.00\" text-anchor=\"middle\" x=\"733.5\" y=\"-695.3\">input:</text>\n",
       "<polyline fill=\"none\" points=\"706,-687.5 761,-687.5 \" stroke=\"black\"/>\n",
       "<text font-family=\"Times,serif\" font-size=\"14.00\" text-anchor=\"middle\" x=\"733.5\" y=\"-672.3\">output:</text>\n",
       "<polyline fill=\"none\" points=\"761,-664.5 761,-710.5 \" stroke=\"black\"/>\n",
       "<text font-family=\"Times,serif\" font-size=\"14.00\" text-anchor=\"middle\" x=\"802.5\" y=\"-695.3\">(None, 256)</text>\n",
       "<polyline fill=\"none\" points=\"761,-687.5 844,-687.5 \" stroke=\"black\"/>\n",
       "<text font-family=\"Times,serif\" font-size=\"14.00\" text-anchor=\"middle\" x=\"802.5\" y=\"-672.3\">(None, 256)</text>\n",
       "</g>\n",
       "<!-- 139971089698040 -->\n",
       "<g class=\"node\" id=\"node2\"><title>139971089698040</title>\n",
       "<polygon fill=\"none\" points=\"539,-581.5 539,-627.5 865,-627.5 865,-581.5 539,-581.5\" stroke=\"black\"/>\n",
       "<text font-family=\"Times,serif\" font-size=\"14.00\" text-anchor=\"middle\" x=\"619.5\" y=\"-600.8\">embedding_6: Embedding</text>\n",
       "<polyline fill=\"none\" points=\"700,-581.5 700,-627.5 \" stroke=\"black\"/>\n",
       "<text font-family=\"Times,serif\" font-size=\"14.00\" text-anchor=\"middle\" x=\"727.5\" y=\"-612.3\">input:</text>\n",
       "<polyline fill=\"none\" points=\"700,-604.5 755,-604.5 \" stroke=\"black\"/>\n",
       "<text font-family=\"Times,serif\" font-size=\"14.00\" text-anchor=\"middle\" x=\"727.5\" y=\"-589.3\">output:</text>\n",
       "<polyline fill=\"none\" points=\"755,-581.5 755,-627.5 \" stroke=\"black\"/>\n",
       "<text font-family=\"Times,serif\" font-size=\"14.00\" text-anchor=\"middle\" x=\"810\" y=\"-612.3\">(None, 256)</text>\n",
       "<polyline fill=\"none\" points=\"755,-604.5 865,-604.5 \" stroke=\"black\"/>\n",
       "<text font-family=\"Times,serif\" font-size=\"14.00\" text-anchor=\"middle\" x=\"810\" y=\"-589.3\">(None, 256, 128)</text>\n",
       "</g>\n",
       "<!-- 139971089697928&#45;&gt;139971089698040 -->\n",
       "<g class=\"edge\" id=\"edge1\"><title>139971089697928-&gt;139971089698040</title>\n",
       "<path d=\"M702,-664.366C702,-656.152 702,-646.658 702,-637.725\" fill=\"none\" stroke=\"black\"/>\n",
       "<polygon fill=\"black\" points=\"705.5,-637.607 702,-627.607 698.5,-637.607 705.5,-637.607\" stroke=\"black\"/>\n",
       "</g>\n",
       "<!-- 139971089697984 -->\n",
       "<g class=\"node\" id=\"node3\"><title>139971089697984</title>\n",
       "<polygon fill=\"none\" points=\"499,-498.5 499,-544.5 905,-544.5 905,-498.5 499,-498.5\" stroke=\"black\"/>\n",
       "<text font-family=\"Times,serif\" font-size=\"14.00\" text-anchor=\"middle\" x=\"619.5\" y=\"-517.8\">spatial_dropout1d_16: SpatialDropout1D</text>\n",
       "<polyline fill=\"none\" points=\"740,-498.5 740,-544.5 \" stroke=\"black\"/>\n",
       "<text font-family=\"Times,serif\" font-size=\"14.00\" text-anchor=\"middle\" x=\"767.5\" y=\"-529.3\">input:</text>\n",
       "<polyline fill=\"none\" points=\"740,-521.5 795,-521.5 \" stroke=\"black\"/>\n",
       "<text font-family=\"Times,serif\" font-size=\"14.00\" text-anchor=\"middle\" x=\"767.5\" y=\"-506.3\">output:</text>\n",
       "<polyline fill=\"none\" points=\"795,-498.5 795,-544.5 \" stroke=\"black\"/>\n",
       "<text font-family=\"Times,serif\" font-size=\"14.00\" text-anchor=\"middle\" x=\"850\" y=\"-529.3\">(None, 256, 128)</text>\n",
       "<polyline fill=\"none\" points=\"795,-521.5 905,-521.5 \" stroke=\"black\"/>\n",
       "<text font-family=\"Times,serif\" font-size=\"14.00\" text-anchor=\"middle\" x=\"850\" y=\"-506.3\">(None, 256, 128)</text>\n",
       "</g>\n",
       "<!-- 139971089698040&#45;&gt;139971089697984 -->\n",
       "<g class=\"edge\" id=\"edge2\"><title>139971089698040-&gt;139971089697984</title>\n",
       "<path d=\"M702,-581.366C702,-573.152 702,-563.658 702,-554.725\" fill=\"none\" stroke=\"black\"/>\n",
       "<polygon fill=\"black\" points=\"705.5,-554.607 702,-544.607 698.5,-554.607 705.5,-554.607\" stroke=\"black\"/>\n",
       "</g>\n",
       "<!-- 139971089698096 -->\n",
       "<g class=\"node\" id=\"node4\"><title>139971089698096</title>\n",
       "<polygon fill=\"none\" points=\"185.5,-415.5 185.5,-461.5 480.5,-461.5 480.5,-415.5 185.5,-415.5\" stroke=\"black\"/>\n",
       "<text font-family=\"Times,serif\" font-size=\"14.00\" text-anchor=\"middle\" x=\"250.5\" y=\"-434.8\">conv1d_14: Conv1D</text>\n",
       "<polyline fill=\"none\" points=\"315.5,-415.5 315.5,-461.5 \" stroke=\"black\"/>\n",
       "<text font-family=\"Times,serif\" font-size=\"14.00\" text-anchor=\"middle\" x=\"343\" y=\"-446.3\">input:</text>\n",
       "<polyline fill=\"none\" points=\"315.5,-438.5 370.5,-438.5 \" stroke=\"black\"/>\n",
       "<text font-family=\"Times,serif\" font-size=\"14.00\" text-anchor=\"middle\" x=\"343\" y=\"-423.3\">output:</text>\n",
       "<polyline fill=\"none\" points=\"370.5,-415.5 370.5,-461.5 \" stroke=\"black\"/>\n",
       "<text font-family=\"Times,serif\" font-size=\"14.00\" text-anchor=\"middle\" x=\"425.5\" y=\"-446.3\">(None, 256, 128)</text>\n",
       "<polyline fill=\"none\" points=\"370.5,-438.5 480.5,-438.5 \" stroke=\"black\"/>\n",
       "<text font-family=\"Times,serif\" font-size=\"14.00\" text-anchor=\"middle\" x=\"425.5\" y=\"-423.3\">(None, 254, 256)</text>\n",
       "</g>\n",
       "<!-- 139971089697984&#45;&gt;139971089698096 -->\n",
       "<g class=\"edge\" id=\"edge3\"><title>139971089697984-&gt;139971089698096</title>\n",
       "<path d=\"M601.657,-498.473C552.638,-487.713 493.533,-474.739 443.256,-463.702\" fill=\"none\" stroke=\"black\"/>\n",
       "<polygon fill=\"black\" points=\"443.841,-460.248 433.323,-461.522 442.34,-467.085 443.841,-460.248\" stroke=\"black\"/>\n",
       "</g>\n",
       "<!-- 139972251278416 -->\n",
       "<g class=\"node\" id=\"node5\"><title>139972251278416</title>\n",
       "<polygon fill=\"none\" points=\"554.5,-415.5 554.5,-461.5 849.5,-461.5 849.5,-415.5 554.5,-415.5\" stroke=\"black\"/>\n",
       "<text font-family=\"Times,serif\" font-size=\"14.00\" text-anchor=\"middle\" x=\"619.5\" y=\"-434.8\">conv1d_15: Conv1D</text>\n",
       "<polyline fill=\"none\" points=\"684.5,-415.5 684.5,-461.5 \" stroke=\"black\"/>\n",
       "<text font-family=\"Times,serif\" font-size=\"14.00\" text-anchor=\"middle\" x=\"712\" y=\"-446.3\">input:</text>\n",
       "<polyline fill=\"none\" points=\"684.5,-438.5 739.5,-438.5 \" stroke=\"black\"/>\n",
       "<text font-family=\"Times,serif\" font-size=\"14.00\" text-anchor=\"middle\" x=\"712\" y=\"-423.3\">output:</text>\n",
       "<polyline fill=\"none\" points=\"739.5,-415.5 739.5,-461.5 \" stroke=\"black\"/>\n",
       "<text font-family=\"Times,serif\" font-size=\"14.00\" text-anchor=\"middle\" x=\"794.5\" y=\"-446.3\">(None, 256, 128)</text>\n",
       "<polyline fill=\"none\" points=\"739.5,-438.5 849.5,-438.5 \" stroke=\"black\"/>\n",
       "<text font-family=\"Times,serif\" font-size=\"14.00\" text-anchor=\"middle\" x=\"794.5\" y=\"-423.3\">(None, 252, 256)</text>\n",
       "</g>\n",
       "<!-- 139971089697984&#45;&gt;139972251278416 -->\n",
       "<g class=\"edge\" id=\"edge4\"><title>139971089697984-&gt;139972251278416</title>\n",
       "<path d=\"M702,-498.366C702,-490.152 702,-480.658 702,-471.725\" fill=\"none\" stroke=\"black\"/>\n",
       "<polygon fill=\"black\" points=\"705.5,-471.607 702,-461.607 698.5,-471.607 705.5,-471.607\" stroke=\"black\"/>\n",
       "</g>\n",
       "<!-- 139972246587152 -->\n",
       "<g class=\"node\" id=\"node6\"><title>139972246587152</title>\n",
       "<polygon fill=\"none\" points=\"922.5,-415.5 922.5,-461.5 1217.5,-461.5 1217.5,-415.5 922.5,-415.5\" stroke=\"black\"/>\n",
       "<text font-family=\"Times,serif\" font-size=\"14.00\" text-anchor=\"middle\" x=\"987.5\" y=\"-434.8\">conv1d_16: Conv1D</text>\n",
       "<polyline fill=\"none\" points=\"1052.5,-415.5 1052.5,-461.5 \" stroke=\"black\"/>\n",
       "<text font-family=\"Times,serif\" font-size=\"14.00\" text-anchor=\"middle\" x=\"1080\" y=\"-446.3\">input:</text>\n",
       "<polyline fill=\"none\" points=\"1052.5,-438.5 1107.5,-438.5 \" stroke=\"black\"/>\n",
       "<text font-family=\"Times,serif\" font-size=\"14.00\" text-anchor=\"middle\" x=\"1080\" y=\"-423.3\">output:</text>\n",
       "<polyline fill=\"none\" points=\"1107.5,-415.5 1107.5,-461.5 \" stroke=\"black\"/>\n",
       "<text font-family=\"Times,serif\" font-size=\"14.00\" text-anchor=\"middle\" x=\"1162.5\" y=\"-446.3\">(None, 256, 128)</text>\n",
       "<polyline fill=\"none\" points=\"1107.5,-438.5 1217.5,-438.5 \" stroke=\"black\"/>\n",
       "<text font-family=\"Times,serif\" font-size=\"14.00\" text-anchor=\"middle\" x=\"1162.5\" y=\"-423.3\">(None, 250, 256)</text>\n",
       "</g>\n",
       "<!-- 139971089697984&#45;&gt;139972246587152 -->\n",
       "<g class=\"edge\" id=\"edge5\"><title>139971089697984-&gt;139972246587152</title>\n",
       "<path d=\"M802.072,-498.473C850.957,-487.713 909.902,-474.739 960.043,-463.702\" fill=\"none\" stroke=\"black\"/>\n",
       "<polygon fill=\"black\" points=\"960.935,-467.09 969.948,-461.522 959.43,-460.254 960.935,-467.09\" stroke=\"black\"/>\n",
       "</g>\n",
       "<!-- 139971089698264 -->\n",
       "<g class=\"node\" id=\"node7\"><title>139971089698264</title>\n",
       "<polygon fill=\"none\" points=\"50,-332.5 50,-378.5 456,-378.5 456,-332.5 50,-332.5\" stroke=\"black\"/>\n",
       "<text font-family=\"Times,serif\" font-size=\"14.00\" text-anchor=\"middle\" x=\"170.5\" y=\"-351.8\">spatial_dropout1d_17: SpatialDropout1D</text>\n",
       "<polyline fill=\"none\" points=\"291,-332.5 291,-378.5 \" stroke=\"black\"/>\n",
       "<text font-family=\"Times,serif\" font-size=\"14.00\" text-anchor=\"middle\" x=\"318.5\" y=\"-363.3\">input:</text>\n",
       "<polyline fill=\"none\" points=\"291,-355.5 346,-355.5 \" stroke=\"black\"/>\n",
       "<text font-family=\"Times,serif\" font-size=\"14.00\" text-anchor=\"middle\" x=\"318.5\" y=\"-340.3\">output:</text>\n",
       "<polyline fill=\"none\" points=\"346,-332.5 346,-378.5 \" stroke=\"black\"/>\n",
       "<text font-family=\"Times,serif\" font-size=\"14.00\" text-anchor=\"middle\" x=\"401\" y=\"-363.3\">(None, 254, 256)</text>\n",
       "<polyline fill=\"none\" points=\"346,-355.5 456,-355.5 \" stroke=\"black\"/>\n",
       "<text font-family=\"Times,serif\" font-size=\"14.00\" text-anchor=\"middle\" x=\"401\" y=\"-340.3\">(None, 254, 256)</text>\n",
       "</g>\n",
       "<!-- 139971089698096&#45;&gt;139971089698264 -->\n",
       "<g class=\"edge\" id=\"edge6\"><title>139971089698096-&gt;139971089698264</title>\n",
       "<path d=\"M311.14,-415.366C302.144,-406.259 291.596,-395.579 281.972,-385.835\" fill=\"none\" stroke=\"black\"/>\n",
       "<polygon fill=\"black\" points=\"284.351,-383.262 274.834,-378.607 279.371,-388.181 284.351,-383.262\" stroke=\"black\"/>\n",
       "</g>\n",
       "<!-- 139972251266632 -->\n",
       "<g class=\"node\" id=\"node8\"><title>139972251266632</title>\n",
       "<polygon fill=\"none\" points=\"499,-332.5 499,-378.5 905,-378.5 905,-332.5 499,-332.5\" stroke=\"black\"/>\n",
       "<text font-family=\"Times,serif\" font-size=\"14.00\" text-anchor=\"middle\" x=\"619.5\" y=\"-351.8\">spatial_dropout1d_18: SpatialDropout1D</text>\n",
       "<polyline fill=\"none\" points=\"740,-332.5 740,-378.5 \" stroke=\"black\"/>\n",
       "<text font-family=\"Times,serif\" font-size=\"14.00\" text-anchor=\"middle\" x=\"767.5\" y=\"-363.3\">input:</text>\n",
       "<polyline fill=\"none\" points=\"740,-355.5 795,-355.5 \" stroke=\"black\"/>\n",
       "<text font-family=\"Times,serif\" font-size=\"14.00\" text-anchor=\"middle\" x=\"767.5\" y=\"-340.3\">output:</text>\n",
       "<polyline fill=\"none\" points=\"795,-332.5 795,-378.5 \" stroke=\"black\"/>\n",
       "<text font-family=\"Times,serif\" font-size=\"14.00\" text-anchor=\"middle\" x=\"850\" y=\"-363.3\">(None, 252, 256)</text>\n",
       "<polyline fill=\"none\" points=\"795,-355.5 905,-355.5 \" stroke=\"black\"/>\n",
       "<text font-family=\"Times,serif\" font-size=\"14.00\" text-anchor=\"middle\" x=\"850\" y=\"-340.3\">(None, 252, 256)</text>\n",
       "</g>\n",
       "<!-- 139972251278416&#45;&gt;139972251266632 -->\n",
       "<g class=\"edge\" id=\"edge7\"><title>139972251278416-&gt;139972251266632</title>\n",
       "<path d=\"M702,-415.366C702,-407.152 702,-397.658 702,-388.725\" fill=\"none\" stroke=\"black\"/>\n",
       "<polygon fill=\"black\" points=\"705.5,-388.607 702,-378.607 698.5,-388.607 705.5,-388.607\" stroke=\"black\"/>\n",
       "</g>\n",
       "<!-- 139972246492216 -->\n",
       "<g class=\"node\" id=\"node9\"><title>139972246492216</title>\n",
       "<polygon fill=\"none\" points=\"948,-332.5 948,-378.5 1354,-378.5 1354,-332.5 948,-332.5\" stroke=\"black\"/>\n",
       "<text font-family=\"Times,serif\" font-size=\"14.00\" text-anchor=\"middle\" x=\"1068.5\" y=\"-351.8\">spatial_dropout1d_19: SpatialDropout1D</text>\n",
       "<polyline fill=\"none\" points=\"1189,-332.5 1189,-378.5 \" stroke=\"black\"/>\n",
       "<text font-family=\"Times,serif\" font-size=\"14.00\" text-anchor=\"middle\" x=\"1216.5\" y=\"-363.3\">input:</text>\n",
       "<polyline fill=\"none\" points=\"1189,-355.5 1244,-355.5 \" stroke=\"black\"/>\n",
       "<text font-family=\"Times,serif\" font-size=\"14.00\" text-anchor=\"middle\" x=\"1216.5\" y=\"-340.3\">output:</text>\n",
       "<polyline fill=\"none\" points=\"1244,-332.5 1244,-378.5 \" stroke=\"black\"/>\n",
       "<text font-family=\"Times,serif\" font-size=\"14.00\" text-anchor=\"middle\" x=\"1299\" y=\"-363.3\">(None, 250, 256)</text>\n",
       "<polyline fill=\"none\" points=\"1244,-355.5 1354,-355.5 \" stroke=\"black\"/>\n",
       "<text font-family=\"Times,serif\" font-size=\"14.00\" text-anchor=\"middle\" x=\"1299\" y=\"-340.3\">(None, 250, 256)</text>\n",
       "</g>\n",
       "<!-- 139972246587152&#45;&gt;139972246492216 -->\n",
       "<g class=\"edge\" id=\"edge8\"><title>139972246587152-&gt;139972246492216</title>\n",
       "<path d=\"M1092.13,-415.366C1101.24,-406.259 1111.92,-395.579 1121.67,-385.835\" fill=\"none\" stroke=\"black\"/>\n",
       "<polygon fill=\"black\" points=\"1124.3,-388.153 1128.89,-378.607 1119.35,-383.203 1124.3,-388.153\" stroke=\"black\"/>\n",
       "</g>\n",
       "<!-- 139972252408072 -->\n",
       "<g class=\"node\" id=\"node10\"><title>139972252408072</title>\n",
       "<polygon fill=\"none\" points=\"0,-249.5 0,-295.5 456,-295.5 456,-249.5 0,-249.5\" stroke=\"black\"/>\n",
       "<text font-family=\"Times,serif\" font-size=\"14.00\" text-anchor=\"middle\" x=\"145.5\" y=\"-268.8\">global_max_pooling1d_12: GlobalMaxPooling1D</text>\n",
       "<polyline fill=\"none\" points=\"291,-249.5 291,-295.5 \" stroke=\"black\"/>\n",
       "<text font-family=\"Times,serif\" font-size=\"14.00\" text-anchor=\"middle\" x=\"318.5\" y=\"-280.3\">input:</text>\n",
       "<polyline fill=\"none\" points=\"291,-272.5 346,-272.5 \" stroke=\"black\"/>\n",
       "<text font-family=\"Times,serif\" font-size=\"14.00\" text-anchor=\"middle\" x=\"318.5\" y=\"-257.3\">output:</text>\n",
       "<polyline fill=\"none\" points=\"346,-249.5 346,-295.5 \" stroke=\"black\"/>\n",
       "<text font-family=\"Times,serif\" font-size=\"14.00\" text-anchor=\"middle\" x=\"401\" y=\"-280.3\">(None, 254, 256)</text>\n",
       "<polyline fill=\"none\" points=\"346,-272.5 456,-272.5 \" stroke=\"black\"/>\n",
       "<text font-family=\"Times,serif\" font-size=\"14.00\" text-anchor=\"middle\" x=\"401\" y=\"-257.3\">(None, 256)</text>\n",
       "</g>\n",
       "<!-- 139971089698264&#45;&gt;139972252408072 -->\n",
       "<g class=\"edge\" id=\"edge9\"><title>139971089698264-&gt;139972252408072</title>\n",
       "<path d=\"M246.169,-332.366C243.606,-324.062 240.639,-314.451 237.856,-305.434\" fill=\"none\" stroke=\"black\"/>\n",
       "<polygon fill=\"black\" points=\"241.117,-304.13 234.823,-295.607 234.428,-306.194 241.117,-304.13\" stroke=\"black\"/>\n",
       "</g>\n",
       "<!-- 139972246219576 -->\n",
       "<g class=\"node\" id=\"node11\"><title>139972246219576</title>\n",
       "<polygon fill=\"none\" points=\"474,-249.5 474,-295.5 930,-295.5 930,-249.5 474,-249.5\" stroke=\"black\"/>\n",
       "<text font-family=\"Times,serif\" font-size=\"14.00\" text-anchor=\"middle\" x=\"619.5\" y=\"-268.8\">global_max_pooling1d_13: GlobalMaxPooling1D</text>\n",
       "<polyline fill=\"none\" points=\"765,-249.5 765,-295.5 \" stroke=\"black\"/>\n",
       "<text font-family=\"Times,serif\" font-size=\"14.00\" text-anchor=\"middle\" x=\"792.5\" y=\"-280.3\">input:</text>\n",
       "<polyline fill=\"none\" points=\"765,-272.5 820,-272.5 \" stroke=\"black\"/>\n",
       "<text font-family=\"Times,serif\" font-size=\"14.00\" text-anchor=\"middle\" x=\"792.5\" y=\"-257.3\">output:</text>\n",
       "<polyline fill=\"none\" points=\"820,-249.5 820,-295.5 \" stroke=\"black\"/>\n",
       "<text font-family=\"Times,serif\" font-size=\"14.00\" text-anchor=\"middle\" x=\"875\" y=\"-280.3\">(None, 252, 256)</text>\n",
       "<polyline fill=\"none\" points=\"820,-272.5 930,-272.5 \" stroke=\"black\"/>\n",
       "<text font-family=\"Times,serif\" font-size=\"14.00\" text-anchor=\"middle\" x=\"875\" y=\"-257.3\">(None, 256)</text>\n",
       "</g>\n",
       "<!-- 139972251266632&#45;&gt;139972246219576 -->\n",
       "<g class=\"edge\" id=\"edge10\"><title>139972251266632-&gt;139972246219576</title>\n",
       "<path d=\"M702,-332.366C702,-324.152 702,-314.658 702,-305.725\" fill=\"none\" stroke=\"black\"/>\n",
       "<polygon fill=\"black\" points=\"705.5,-305.607 702,-295.607 698.5,-305.607 705.5,-305.607\" stroke=\"black\"/>\n",
       "</g>\n",
       "<!-- 139972253332984 -->\n",
       "<g class=\"node\" id=\"node12\"><title>139972253332984</title>\n",
       "<polygon fill=\"none\" points=\"948,-249.5 948,-295.5 1404,-295.5 1404,-249.5 948,-249.5\" stroke=\"black\"/>\n",
       "<text font-family=\"Times,serif\" font-size=\"14.00\" text-anchor=\"middle\" x=\"1093.5\" y=\"-268.8\">global_max_pooling1d_14: GlobalMaxPooling1D</text>\n",
       "<polyline fill=\"none\" points=\"1239,-249.5 1239,-295.5 \" stroke=\"black\"/>\n",
       "<text font-family=\"Times,serif\" font-size=\"14.00\" text-anchor=\"middle\" x=\"1266.5\" y=\"-280.3\">input:</text>\n",
       "<polyline fill=\"none\" points=\"1239,-272.5 1294,-272.5 \" stroke=\"black\"/>\n",
       "<text font-family=\"Times,serif\" font-size=\"14.00\" text-anchor=\"middle\" x=\"1266.5\" y=\"-257.3\">output:</text>\n",
       "<polyline fill=\"none\" points=\"1294,-249.5 1294,-295.5 \" stroke=\"black\"/>\n",
       "<text font-family=\"Times,serif\" font-size=\"14.00\" text-anchor=\"middle\" x=\"1349\" y=\"-280.3\">(None, 250, 256)</text>\n",
       "<polyline fill=\"none\" points=\"1294,-272.5 1404,-272.5 \" stroke=\"black\"/>\n",
       "<text font-family=\"Times,serif\" font-size=\"14.00\" text-anchor=\"middle\" x=\"1349\" y=\"-257.3\">(None, 256)</text>\n",
       "</g>\n",
       "<!-- 139972246492216&#45;&gt;139972253332984 -->\n",
       "<g class=\"edge\" id=\"edge11\"><title>139972246492216-&gt;139972253332984</title>\n",
       "<path d=\"M1157.83,-332.366C1160.39,-324.062 1163.36,-314.451 1166.14,-305.434\" fill=\"none\" stroke=\"black\"/>\n",
       "<polygon fill=\"black\" points=\"1169.57,-306.194 1169.18,-295.607 1162.88,-304.13 1169.57,-306.194\" stroke=\"black\"/>\n",
       "</g>\n",
       "<!-- 139972253407048 -->\n",
       "<g class=\"node\" id=\"node13\"><title>139972253407048</title>\n",
       "<polygon fill=\"none\" points=\"471,-166.5 471,-212.5 933,-212.5 933,-166.5 471,-166.5\" stroke=\"black\"/>\n",
       "<text font-family=\"Times,serif\" font-size=\"14.00\" text-anchor=\"middle\" x=\"555\" y=\"-185.8\">concatenate_7: Concatenate</text>\n",
       "<polyline fill=\"none\" points=\"639,-166.5 639,-212.5 \" stroke=\"black\"/>\n",
       "<text font-family=\"Times,serif\" font-size=\"14.00\" text-anchor=\"middle\" x=\"666.5\" y=\"-197.3\">input:</text>\n",
       "<polyline fill=\"none\" points=\"639,-189.5 694,-189.5 \" stroke=\"black\"/>\n",
       "<text font-family=\"Times,serif\" font-size=\"14.00\" text-anchor=\"middle\" x=\"666.5\" y=\"-174.3\">output:</text>\n",
       "<polyline fill=\"none\" points=\"694,-166.5 694,-212.5 \" stroke=\"black\"/>\n",
       "<text font-family=\"Times,serif\" font-size=\"14.00\" text-anchor=\"middle\" x=\"813.5\" y=\"-197.3\">[(None, 256), (None, 256), (None, 256)]</text>\n",
       "<polyline fill=\"none\" points=\"694,-189.5 933,-189.5 \" stroke=\"black\"/>\n",
       "<text font-family=\"Times,serif\" font-size=\"14.00\" text-anchor=\"middle\" x=\"813.5\" y=\"-174.3\">(None, 768)</text>\n",
       "</g>\n",
       "<!-- 139972252408072&#45;&gt;139972253407048 -->\n",
       "<g class=\"edge\" id=\"edge12\"><title>139972252408072-&gt;139972253407048</title>\n",
       "<path d=\"M356.896,-249.473C420.782,-238.556 498.005,-225.36 563.189,-214.221\" fill=\"none\" stroke=\"black\"/>\n",
       "<polygon fill=\"black\" points=\"563.862,-217.657 573.129,-212.522 562.682,-210.757 563.862,-217.657\" stroke=\"black\"/>\n",
       "</g>\n",
       "<!-- 139972246219576&#45;&gt;139972253407048 -->\n",
       "<g class=\"edge\" id=\"edge13\"><title>139972246219576-&gt;139972253407048</title>\n",
       "<path d=\"M702,-249.366C702,-241.152 702,-231.658 702,-222.725\" fill=\"none\" stroke=\"black\"/>\n",
       "<polygon fill=\"black\" points=\"705.5,-222.607 702,-212.607 698.5,-222.607 705.5,-222.607\" stroke=\"black\"/>\n",
       "</g>\n",
       "<!-- 139972253332984&#45;&gt;139972253407048 -->\n",
       "<g class=\"edge\" id=\"edge14\"><title>139972253332984-&gt;139972253407048</title>\n",
       "<path d=\"M1047.1,-249.473C983.218,-238.556 905.995,-225.36 840.811,-214.221\" fill=\"none\" stroke=\"black\"/>\n",
       "<polygon fill=\"black\" points=\"841.318,-210.757 830.871,-212.522 840.138,-217.657 841.318,-210.757\" stroke=\"black\"/>\n",
       "</g>\n",
       "<!-- 139972253408728 -->\n",
       "<g class=\"node\" id=\"node15\"><title>139972253408728</title>\n",
       "<polygon fill=\"none\" points=\"703.5,-83.5 703.5,-129.5 1084.5,-129.5 1084.5,-83.5 703.5,-83.5\" stroke=\"black\"/>\n",
       "<text font-family=\"Times,serif\" font-size=\"14.00\" text-anchor=\"middle\" x=\"787.5\" y=\"-102.8\">concatenate_8: Concatenate</text>\n",
       "<polyline fill=\"none\" points=\"871.5,-83.5 871.5,-129.5 \" stroke=\"black\"/>\n",
       "<text font-family=\"Times,serif\" font-size=\"14.00\" text-anchor=\"middle\" x=\"899\" y=\"-114.3\">input:</text>\n",
       "<polyline fill=\"none\" points=\"871.5,-106.5 926.5,-106.5 \" stroke=\"black\"/>\n",
       "<text font-family=\"Times,serif\" font-size=\"14.00\" text-anchor=\"middle\" x=\"899\" y=\"-91.3\">output:</text>\n",
       "<polyline fill=\"none\" points=\"926.5,-83.5 926.5,-129.5 \" stroke=\"black\"/>\n",
       "<text font-family=\"Times,serif\" font-size=\"14.00\" text-anchor=\"middle\" x=\"1005.5\" y=\"-114.3\">[(None, 768), (None, 50)]</text>\n",
       "<polyline fill=\"none\" points=\"926.5,-106.5 1084.5,-106.5 \" stroke=\"black\"/>\n",
       "<text font-family=\"Times,serif\" font-size=\"14.00\" text-anchor=\"middle\" x=\"1005.5\" y=\"-91.3\">(None, 818)</text>\n",
       "</g>\n",
       "<!-- 139972253407048&#45;&gt;139972253408728 -->\n",
       "<g class=\"edge\" id=\"edge15\"><title>139972253407048-&gt;139972253408728</title>\n",
       "<path d=\"M754.211,-166.473C778.335,-156.296 807.155,-144.138 832.341,-133.512\" fill=\"none\" stroke=\"black\"/>\n",
       "<polygon fill=\"black\" points=\"833.946,-136.634 841.799,-129.522 831.225,-130.185 833.946,-136.634\" stroke=\"black\"/>\n",
       "</g>\n",
       "<!-- 139972253408840 -->\n",
       "<g class=\"node\" id=\"node14\"><title>139972253408840</title>\n",
       "<polygon fill=\"none\" points=\"951.5,-166.5 951.5,-212.5 1220.5,-212.5 1220.5,-166.5 951.5,-166.5\" stroke=\"black\"/>\n",
       "<text font-family=\"Times,serif\" font-size=\"14.00\" text-anchor=\"middle\" x=\"1020.5\" y=\"-185.8\">aux_input: InputLayer</text>\n",
       "<polyline fill=\"none\" points=\"1089.5,-166.5 1089.5,-212.5 \" stroke=\"black\"/>\n",
       "<text font-family=\"Times,serif\" font-size=\"14.00\" text-anchor=\"middle\" x=\"1117\" y=\"-197.3\">input:</text>\n",
       "<polyline fill=\"none\" points=\"1089.5,-189.5 1144.5,-189.5 \" stroke=\"black\"/>\n",
       "<text font-family=\"Times,serif\" font-size=\"14.00\" text-anchor=\"middle\" x=\"1117\" y=\"-174.3\">output:</text>\n",
       "<polyline fill=\"none\" points=\"1144.5,-166.5 1144.5,-212.5 \" stroke=\"black\"/>\n",
       "<text font-family=\"Times,serif\" font-size=\"14.00\" text-anchor=\"middle\" x=\"1182.5\" y=\"-197.3\">(None, 50)</text>\n",
       "<polyline fill=\"none\" points=\"1144.5,-189.5 1220.5,-189.5 \" stroke=\"black\"/>\n",
       "<text font-family=\"Times,serif\" font-size=\"14.00\" text-anchor=\"middle\" x=\"1182.5\" y=\"-174.3\">(None, 50)</text>\n",
       "</g>\n",
       "<!-- 139972253408840&#45;&gt;139972253408728 -->\n",
       "<g class=\"edge\" id=\"edge16\"><title>139972253408840-&gt;139972253408728</title>\n",
       "<path d=\"M1033.79,-166.473C1009.66,-156.296 980.845,-144.138 955.659,-133.512\" fill=\"none\" stroke=\"black\"/>\n",
       "<polygon fill=\"black\" points=\"956.775,-130.185 946.201,-129.522 954.054,-136.634 956.775,-130.185\" stroke=\"black\"/>\n",
       "</g>\n",
       "<!-- 139972253256168 -->\n",
       "<g class=\"node\" id=\"node16\"><title>139972253256168</title>\n",
       "<polygon fill=\"none\" points=\"774,-0.5 774,-46.5 1014,-46.5 1014,-0.5 774,-0.5\" stroke=\"black\"/>\n",
       "<text font-family=\"Times,serif\" font-size=\"14.00\" text-anchor=\"middle\" x=\"825\" y=\"-19.8\">dense_4: Dense</text>\n",
       "<polyline fill=\"none\" points=\"876,-0.5 876,-46.5 \" stroke=\"black\"/>\n",
       "<text font-family=\"Times,serif\" font-size=\"14.00\" text-anchor=\"middle\" x=\"903.5\" y=\"-31.3\">input:</text>\n",
       "<polyline fill=\"none\" points=\"876,-23.5 931,-23.5 \" stroke=\"black\"/>\n",
       "<text font-family=\"Times,serif\" font-size=\"14.00\" text-anchor=\"middle\" x=\"903.5\" y=\"-8.3\">output:</text>\n",
       "<polyline fill=\"none\" points=\"931,-0.5 931,-46.5 \" stroke=\"black\"/>\n",
       "<text font-family=\"Times,serif\" font-size=\"14.00\" text-anchor=\"middle\" x=\"972.5\" y=\"-31.3\">(None, 818)</text>\n",
       "<polyline fill=\"none\" points=\"931,-23.5 1014,-23.5 \" stroke=\"black\"/>\n",
       "<text font-family=\"Times,serif\" font-size=\"14.00\" text-anchor=\"middle\" x=\"972.5\" y=\"-8.3\">(None, 5)</text>\n",
       "</g>\n",
       "<!-- 139972253408728&#45;&gt;139972253256168 -->\n",
       "<g class=\"edge\" id=\"edge17\"><title>139972253408728-&gt;139972253256168</title>\n",
       "<path d=\"M894,-83.3664C894,-75.1516 894,-65.6579 894,-56.7252\" fill=\"none\" stroke=\"black\"/>\n",
       "<polygon fill=\"black\" points=\"897.5,-56.6068 894,-46.6068 890.5,-56.6069 897.5,-56.6068\" stroke=\"black\"/>\n",
       "</g>\n",
       "</g>\n",
       "</svg>"
      ],
      "text/plain": [
       "<IPython.core.display.SVG object>"
      ]
     },
     "execution_count": 55,
     "metadata": {},
     "output_type": "execute_result"
    }
   ],
   "source": [
    "from IPython.display import SVG\n",
    "from keras.utils.vis_utils import model_to_dot\n",
    "\n",
    "SVG(model_to_dot(model, show_shapes=True).create(prog='dot', format='svg'))"
   ]
  },
  {
   "cell_type": "code",
   "execution_count": 56,
   "metadata": {
    "collapsed": false
   },
   "outputs": [],
   "source": [
    "from keras.objectives import categorical_crossentropy\n",
    "model.compile(loss='categorical_crossentropy',\n",
    "              optimizer='adam',\n",
    "              metrics=['categorical_accuracy'])"
   ]
  },
  {
   "cell_type": "code",
   "execution_count": 57,
   "metadata": {
    "collapsed": true
   },
   "outputs": [],
   "source": [
    "epochs = 10"
   ]
  },
  {
   "cell_type": "code",
   "execution_count": 58,
   "metadata": {
    "collapsed": false
   },
   "outputs": [
    {
     "name": "stdout",
     "output_type": "stream",
     "text": [
      "Train on 60390 samples, validate on 6711 samples\n",
      "Epoch 1/10\n",
      "16896/60390 [=======>......................] - ETA: 9s - loss: 1.1358 - categorical_accuracy: 0.6179"
     ]
    },
    {
     "ename": "KeyboardInterrupt",
     "evalue": "",
     "output_type": "error",
     "traceback": [
      "\u001b[0;31m---------------------------------------------------------------------------\u001b[0m",
      "\u001b[0;31mKeyboardInterrupt\u001b[0m                         Traceback (most recent call last)",
      "\u001b[0;32m<ipython-input-58-b5208b06c8d8>\u001b[0m in \u001b[0;36m<module>\u001b[0;34m()\u001b[0m\n\u001b[1;32m     10\u001b[0m                     \u001b[0mverbose\u001b[0m\u001b[0;34m=\u001b[0m\u001b[0;36m1\u001b[0m\u001b[0;34m,\u001b[0m\u001b[0;34m\u001b[0m\u001b[0m\n\u001b[1;32m     11\u001b[0m                     \u001b[0mvalidation_split\u001b[0m\u001b[0;34m=\u001b[0m\u001b[0;36m0.1\u001b[0m\u001b[0;34m,\u001b[0m\u001b[0;34m\u001b[0m\u001b[0m\n\u001b[0;32m---> 12\u001b[0;31m                     callbacks=[tensorboard, early_stopping])\n\u001b[0m",
      "\u001b[0;32m~/.local/lib/python3.6/site-packages/keras/engine/training.py\u001b[0m in \u001b[0;36mfit\u001b[0;34m(self, x, y, batch_size, epochs, verbose, callbacks, validation_split, validation_data, shuffle, class_weight, sample_weight, initial_epoch, steps_per_epoch, validation_steps, **kwargs)\u001b[0m\n\u001b[1;32m   1629\u001b[0m                               \u001b[0minitial_epoch\u001b[0m\u001b[0;34m=\u001b[0m\u001b[0minitial_epoch\u001b[0m\u001b[0;34m,\u001b[0m\u001b[0;34m\u001b[0m\u001b[0m\n\u001b[1;32m   1630\u001b[0m                               \u001b[0msteps_per_epoch\u001b[0m\u001b[0;34m=\u001b[0m\u001b[0msteps_per_epoch\u001b[0m\u001b[0;34m,\u001b[0m\u001b[0;34m\u001b[0m\u001b[0m\n\u001b[0;32m-> 1631\u001b[0;31m                               validation_steps=validation_steps)\n\u001b[0m\u001b[1;32m   1632\u001b[0m \u001b[0;34m\u001b[0m\u001b[0m\n\u001b[1;32m   1633\u001b[0m     def evaluate(self, x=None, y=None,\n",
      "\u001b[0;32m~/.local/lib/python3.6/site-packages/keras/engine/training.py\u001b[0m in \u001b[0;36m_fit_loop\u001b[0;34m(self, f, ins, out_labels, batch_size, epochs, verbose, callbacks, val_f, val_ins, shuffle, callback_metrics, initial_epoch, steps_per_epoch, validation_steps)\u001b[0m\n\u001b[1;32m   1211\u001b[0m                     \u001b[0mbatch_logs\u001b[0m\u001b[0;34m[\u001b[0m\u001b[0;34m'size'\u001b[0m\u001b[0;34m]\u001b[0m \u001b[0;34m=\u001b[0m \u001b[0mlen\u001b[0m\u001b[0;34m(\u001b[0m\u001b[0mbatch_ids\u001b[0m\u001b[0;34m)\u001b[0m\u001b[0;34m\u001b[0m\u001b[0m\n\u001b[1;32m   1212\u001b[0m                     \u001b[0mcallbacks\u001b[0m\u001b[0;34m.\u001b[0m\u001b[0mon_batch_begin\u001b[0m\u001b[0;34m(\u001b[0m\u001b[0mbatch_index\u001b[0m\u001b[0;34m,\u001b[0m \u001b[0mbatch_logs\u001b[0m\u001b[0;34m)\u001b[0m\u001b[0;34m\u001b[0m\u001b[0m\n\u001b[0;32m-> 1213\u001b[0;31m                     \u001b[0mouts\u001b[0m \u001b[0;34m=\u001b[0m \u001b[0mf\u001b[0m\u001b[0;34m(\u001b[0m\u001b[0mins_batch\u001b[0m\u001b[0;34m)\u001b[0m\u001b[0;34m\u001b[0m\u001b[0m\n\u001b[0m\u001b[1;32m   1214\u001b[0m                     \u001b[0;32mif\u001b[0m \u001b[0;32mnot\u001b[0m \u001b[0misinstance\u001b[0m\u001b[0;34m(\u001b[0m\u001b[0mouts\u001b[0m\u001b[0;34m,\u001b[0m \u001b[0mlist\u001b[0m\u001b[0;34m)\u001b[0m\u001b[0;34m:\u001b[0m\u001b[0;34m\u001b[0m\u001b[0m\n\u001b[1;32m   1215\u001b[0m                         \u001b[0mouts\u001b[0m \u001b[0;34m=\u001b[0m \u001b[0;34m[\u001b[0m\u001b[0mouts\u001b[0m\u001b[0;34m]\u001b[0m\u001b[0;34m\u001b[0m\u001b[0m\n",
      "\u001b[0;32m~/.local/lib/python3.6/site-packages/keras/backend/tensorflow_backend.py\u001b[0m in \u001b[0;36m__call__\u001b[0;34m(self, inputs)\u001b[0m\n\u001b[1;32m   2330\u001b[0m         updated = session.run(self.outputs + [self.updates_op],\n\u001b[1;32m   2331\u001b[0m                               \u001b[0mfeed_dict\u001b[0m\u001b[0;34m=\u001b[0m\u001b[0mfeed_dict\u001b[0m\u001b[0;34m,\u001b[0m\u001b[0;34m\u001b[0m\u001b[0m\n\u001b[0;32m-> 2332\u001b[0;31m                               **self.session_kwargs)\n\u001b[0m\u001b[1;32m   2333\u001b[0m         \u001b[0;32mreturn\u001b[0m \u001b[0mupdated\u001b[0m\u001b[0;34m[\u001b[0m\u001b[0;34m:\u001b[0m\u001b[0mlen\u001b[0m\u001b[0;34m(\u001b[0m\u001b[0mself\u001b[0m\u001b[0;34m.\u001b[0m\u001b[0moutputs\u001b[0m\u001b[0;34m)\u001b[0m\u001b[0;34m]\u001b[0m\u001b[0;34m\u001b[0m\u001b[0m\n\u001b[1;32m   2334\u001b[0m \u001b[0;34m\u001b[0m\u001b[0m\n",
      "\u001b[0;32m~/.local/lib/python3.6/site-packages/tensorflow/python/client/session.py\u001b[0m in \u001b[0;36mrun\u001b[0;34m(self, fetches, feed_dict, options, run_metadata)\u001b[0m\n\u001b[1;32m    887\u001b[0m     \u001b[0;32mtry\u001b[0m\u001b[0;34m:\u001b[0m\u001b[0;34m\u001b[0m\u001b[0m\n\u001b[1;32m    888\u001b[0m       result = self._run(None, fetches, feed_dict, options_ptr,\n\u001b[0;32m--> 889\u001b[0;31m                          run_metadata_ptr)\n\u001b[0m\u001b[1;32m    890\u001b[0m       \u001b[0;32mif\u001b[0m \u001b[0mrun_metadata\u001b[0m\u001b[0;34m:\u001b[0m\u001b[0;34m\u001b[0m\u001b[0m\n\u001b[1;32m    891\u001b[0m         \u001b[0mproto_data\u001b[0m \u001b[0;34m=\u001b[0m \u001b[0mtf_session\u001b[0m\u001b[0;34m.\u001b[0m\u001b[0mTF_GetBuffer\u001b[0m\u001b[0;34m(\u001b[0m\u001b[0mrun_metadata_ptr\u001b[0m\u001b[0;34m)\u001b[0m\u001b[0;34m\u001b[0m\u001b[0m\n",
      "\u001b[0;32m~/.local/lib/python3.6/site-packages/tensorflow/python/client/session.py\u001b[0m in \u001b[0;36m_run\u001b[0;34m(self, handle, fetches, feed_dict, options, run_metadata)\u001b[0m\n\u001b[1;32m   1118\u001b[0m     \u001b[0;32mif\u001b[0m \u001b[0mfinal_fetches\u001b[0m \u001b[0;32mor\u001b[0m \u001b[0mfinal_targets\u001b[0m \u001b[0;32mor\u001b[0m \u001b[0;34m(\u001b[0m\u001b[0mhandle\u001b[0m \u001b[0;32mand\u001b[0m \u001b[0mfeed_dict_tensor\u001b[0m\u001b[0;34m)\u001b[0m\u001b[0;34m:\u001b[0m\u001b[0;34m\u001b[0m\u001b[0m\n\u001b[1;32m   1119\u001b[0m       results = self._do_run(handle, final_targets, final_fetches,\n\u001b[0;32m-> 1120\u001b[0;31m                              feed_dict_tensor, options, run_metadata)\n\u001b[0m\u001b[1;32m   1121\u001b[0m     \u001b[0;32melse\u001b[0m\u001b[0;34m:\u001b[0m\u001b[0;34m\u001b[0m\u001b[0m\n\u001b[1;32m   1122\u001b[0m       \u001b[0mresults\u001b[0m \u001b[0;34m=\u001b[0m \u001b[0;34m[\u001b[0m\u001b[0;34m]\u001b[0m\u001b[0;34m\u001b[0m\u001b[0m\n",
      "\u001b[0;32m~/.local/lib/python3.6/site-packages/tensorflow/python/client/session.py\u001b[0m in \u001b[0;36m_do_run\u001b[0;34m(self, handle, target_list, fetch_list, feed_dict, options, run_metadata)\u001b[0m\n\u001b[1;32m   1315\u001b[0m     \u001b[0;32mif\u001b[0m \u001b[0mhandle\u001b[0m \u001b[0;32mis\u001b[0m \u001b[0;32mNone\u001b[0m\u001b[0;34m:\u001b[0m\u001b[0;34m\u001b[0m\u001b[0m\n\u001b[1;32m   1316\u001b[0m       return self._do_call(_run_fn, self._session, feeds, fetches, targets,\n\u001b[0;32m-> 1317\u001b[0;31m                            options, run_metadata)\n\u001b[0m\u001b[1;32m   1318\u001b[0m     \u001b[0;32melse\u001b[0m\u001b[0;34m:\u001b[0m\u001b[0;34m\u001b[0m\u001b[0m\n\u001b[1;32m   1319\u001b[0m       \u001b[0;32mreturn\u001b[0m \u001b[0mself\u001b[0m\u001b[0;34m.\u001b[0m\u001b[0m_do_call\u001b[0m\u001b[0;34m(\u001b[0m\u001b[0m_prun_fn\u001b[0m\u001b[0;34m,\u001b[0m \u001b[0mself\u001b[0m\u001b[0;34m.\u001b[0m\u001b[0m_session\u001b[0m\u001b[0;34m,\u001b[0m \u001b[0mhandle\u001b[0m\u001b[0;34m,\u001b[0m \u001b[0mfeeds\u001b[0m\u001b[0;34m,\u001b[0m \u001b[0mfetches\u001b[0m\u001b[0;34m)\u001b[0m\u001b[0;34m\u001b[0m\u001b[0m\n",
      "\u001b[0;32m~/.local/lib/python3.6/site-packages/tensorflow/python/client/session.py\u001b[0m in \u001b[0;36m_do_call\u001b[0;34m(self, fn, *args)\u001b[0m\n\u001b[1;32m   1321\u001b[0m   \u001b[0;32mdef\u001b[0m \u001b[0m_do_call\u001b[0m\u001b[0;34m(\u001b[0m\u001b[0mself\u001b[0m\u001b[0;34m,\u001b[0m \u001b[0mfn\u001b[0m\u001b[0;34m,\u001b[0m \u001b[0;34m*\u001b[0m\u001b[0margs\u001b[0m\u001b[0;34m)\u001b[0m\u001b[0;34m:\u001b[0m\u001b[0;34m\u001b[0m\u001b[0m\n\u001b[1;32m   1322\u001b[0m     \u001b[0;32mtry\u001b[0m\u001b[0;34m:\u001b[0m\u001b[0;34m\u001b[0m\u001b[0m\n\u001b[0;32m-> 1323\u001b[0;31m       \u001b[0;32mreturn\u001b[0m \u001b[0mfn\u001b[0m\u001b[0;34m(\u001b[0m\u001b[0;34m*\u001b[0m\u001b[0margs\u001b[0m\u001b[0;34m)\u001b[0m\u001b[0;34m\u001b[0m\u001b[0m\n\u001b[0m\u001b[1;32m   1324\u001b[0m     \u001b[0;32mexcept\u001b[0m \u001b[0merrors\u001b[0m\u001b[0;34m.\u001b[0m\u001b[0mOpError\u001b[0m \u001b[0;32mas\u001b[0m \u001b[0me\u001b[0m\u001b[0;34m:\u001b[0m\u001b[0;34m\u001b[0m\u001b[0m\n\u001b[1;32m   1325\u001b[0m       \u001b[0mmessage\u001b[0m \u001b[0;34m=\u001b[0m \u001b[0mcompat\u001b[0m\u001b[0;34m.\u001b[0m\u001b[0mas_text\u001b[0m\u001b[0;34m(\u001b[0m\u001b[0me\u001b[0m\u001b[0;34m.\u001b[0m\u001b[0mmessage\u001b[0m\u001b[0;34m)\u001b[0m\u001b[0;34m\u001b[0m\u001b[0m\n",
      "\u001b[0;32m~/.local/lib/python3.6/site-packages/tensorflow/python/client/session.py\u001b[0m in \u001b[0;36m_run_fn\u001b[0;34m(session, feed_dict, fetch_list, target_list, options, run_metadata)\u001b[0m\n\u001b[1;32m   1300\u001b[0m           return tf_session.TF_Run(session, options,\n\u001b[1;32m   1301\u001b[0m                                    \u001b[0mfeed_dict\u001b[0m\u001b[0;34m,\u001b[0m \u001b[0mfetch_list\u001b[0m\u001b[0;34m,\u001b[0m \u001b[0mtarget_list\u001b[0m\u001b[0;34m,\u001b[0m\u001b[0;34m\u001b[0m\u001b[0m\n\u001b[0;32m-> 1302\u001b[0;31m                                    status, run_metadata)\n\u001b[0m\u001b[1;32m   1303\u001b[0m \u001b[0;34m\u001b[0m\u001b[0m\n\u001b[1;32m   1304\u001b[0m     \u001b[0;32mdef\u001b[0m \u001b[0m_prun_fn\u001b[0m\u001b[0;34m(\u001b[0m\u001b[0msession\u001b[0m\u001b[0;34m,\u001b[0m \u001b[0mhandle\u001b[0m\u001b[0;34m,\u001b[0m \u001b[0mfeed_dict\u001b[0m\u001b[0;34m,\u001b[0m \u001b[0mfetch_list\u001b[0m\u001b[0;34m)\u001b[0m\u001b[0;34m:\u001b[0m\u001b[0;34m\u001b[0m\u001b[0m\n",
      "\u001b[0;31mKeyboardInterrupt\u001b[0m: "
     ]
    }
   ],
   "source": [
    "from keras.callbacks import TensorBoard  \n",
    "tensorboard=TensorBoard(log_dir='./logs', write_graph=True, write_images=True)\n",
    "from keras.callbacks import EarlyStopping  \n",
    "early_stopping=EarlyStopping(monitor='val_loss', patience=3)  \n",
    "\n",
    "\n",
    "history = model.fit([x_train, x2_train], y_train,\n",
    "                    batch_size=batch_size,\n",
    "                    epochs=epochs,\n",
    "                    verbose=1,\n",
    "                    validation_split=0.1,\n",
    "                    callbacks=[tensorboard, early_stopping])"
   ]
  },
  {
   "cell_type": "code",
   "execution_count": 59,
   "metadata": {
    "collapsed": false
   },
   "outputs": [
    {
     "name": "stdout",
     "output_type": "stream",
     "text": [
      "Train on 60390 samples, validate on 6711 samples\n",
      "Epoch 1/10\n",
      "60390/60390 [==============================] - 13s 223us/step - loss: 0.9090 - categorical_accuracy: 0.6434 - val_loss: 0.8086 - val_categorical_accuracy: 0.6683\n",
      "Epoch 2/10\n",
      "60390/60390 [==============================] - 14s 224us/step - loss: 0.7294 - categorical_accuracy: 0.7001 - val_loss: 0.7758 - val_categorical_accuracy: 0.6865\n",
      "Epoch 3/10\n",
      "60390/60390 [==============================] - 14s 224us/step - loss: 0.5920 - categorical_accuracy: 0.7631 - val_loss: 0.8221 - val_categorical_accuracy: 0.6580\n",
      "Epoch 4/10\n",
      "60390/60390 [==============================] - 14s 224us/step - loss: 0.4266 - categorical_accuracy: 0.8423 - val_loss: 0.9425 - val_categorical_accuracy: 0.6561\n",
      "Epoch 5/10\n",
      "60390/60390 [==============================] - 14s 226us/step - loss: 0.2713 - categorical_accuracy: 0.9094 - val_loss: 1.1469 - val_categorical_accuracy: 0.6410\n"
     ]
    }
   ],
   "source": [
    "from keras.callbacks import TensorBoard  \n",
    "tensorboard=TensorBoard(log_dir='./logs', write_graph=True, write_images=True)\n",
    "from keras.callbacks import EarlyStopping  \n",
    "early_stopping=EarlyStopping(monitor='val_loss', patience=3)  \n",
    "\n",
    "\n",
    "history = model.fit([x_train, np.zeros_like(x2_train)], y_train,\n",
    "                    batch_size=batch_size,\n",
    "                    epochs=epochs,\n",
    "                    verbose=1,\n",
    "                    validation_split=0.1,\n",
    "                    callbacks=[tensorboard, early_stopping])"
   ]
  },
  {
   "cell_type": "code",
   "execution_count": 60,
   "metadata": {
    "collapsed": false
   },
   "outputs": [
    {
     "name": "stdout",
     "output_type": "stream",
     "text": [
      "16776/16776 [==============================] - 1s 47us/step\n",
      "\n",
      "\n",
      "Test score: 1.1658225795969146\n",
      "Test accuracy: 0.6406175482824523\n"
     ]
    }
   ],
   "source": [
    "score = model.evaluate([x_test, x2_text], y_val, batch_size=batch_size, verbose=1)\n",
    "print('\\n')\n",
    "print('Test score:', score[0])\n",
    "print('Test accuracy:', score[1])"
   ]
  },
  {
   "cell_type": "code",
   "execution_count": 61,
   "metadata": {
    "collapsed": false
   },
   "outputs": [
    {
     "name": "stdout",
     "output_type": "stream",
     "text": [
      "16776/16776 [==============================] - 1s 51us/step\n"
     ]
    }
   ],
   "source": [
    "results = model.predict([x_test, x2_text], batch_size=batch_size, verbose=1)"
   ]
  },
  {
   "cell_type": "code",
   "execution_count": 62,
   "metadata": {
    "collapsed": false
   },
   "outputs": [
    {
     "name": "stdout",
     "output_type": "stream",
     "text": [
      "16776/16776 [==============================] - 1s 46us/step\n"
     ]
    }
   ],
   "source": [
    "results = model.predict([x_test, np.zeros_like(x2_text)], batch_size=batch_size, verbose=1)"
   ]
  },
  {
   "cell_type": "code",
   "execution_count": 63,
   "metadata": {
    "collapsed": false
   },
   "outputs": [
    {
     "name": "stdout",
     "output_type": "stream",
     "text": [
      "             precision    recall  f1-score   support\n",
      "\n",
      "          0      0.603     0.404     0.484       711\n",
      "          1      0.349     0.157     0.216       740\n",
      "          2      0.484     0.125     0.199      1184\n",
      "          3      0.346     0.271     0.304      3454\n",
      "          4      0.758     0.830     0.793     10687\n",
      "\n",
      "avg / total      0.629     0.618     0.612     16776\n",
      "\n"
     ]
    }
   ],
   "source": [
    "print(classification_report(y_val, np.round(results), digits=3))"
   ]
  },
  {
   "cell_type": "code",
   "execution_count": 50,
   "metadata": {
    "collapsed": false
   },
   "outputs": [
    {
     "name": "stdout",
     "output_type": "stream",
     "text": [
      "0.504936852299697\n",
      "0.35724086764457663\n",
      "0.40244854506162275\n"
     ]
    }
   ],
   "source": [
    "print(metrics.precision_score(y_val, np.round(results), average='macro'))\n",
    "print(metrics.recall_score(y_val, np.round(results), average='macro'))\n",
    "print(metrics.f1_score(y_val, np.round(results), average='macro'))"
   ]
  },
  {
   "cell_type": "code",
   "execution_count": null,
   "metadata": {
    "collapsed": true
   },
   "outputs": [],
   "source": []
  }
 ],
 "metadata": {
  "anaconda-cloud": {},
  "kernelspec": {
   "display_name": "Python [default]",
   "language": "python",
   "name": "python3"
  },
  "language_info": {
   "codemirror_mode": {
    "name": "ipython",
    "version": 3
   },
   "file_extension": ".py",
   "mimetype": "text/x-python",
   "name": "python",
   "nbconvert_exporter": "python",
   "pygments_lexer": "ipython3",
   "version": "3.5.2"
  }
 },
 "nbformat": 4,
 "nbformat_minor": 1
}
