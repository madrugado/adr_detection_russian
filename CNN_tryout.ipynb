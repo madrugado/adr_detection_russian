{
 "cells": [
  {
   "cell_type": "code",
   "execution_count": 1,
   "metadata": {
    "collapsed": true
   },
   "outputs": [],
   "source": [
    "from sentence_classification import *"
   ]
  },
  {
   "cell_type": "code",
   "execution_count": null,
   "metadata": {
    "collapsed": true
   },
   "outputs": [],
   "source": [
    "lemmas = extract_lemmas(X)\n",
    "pos_tags = load_pos_tags(\"data/resources/pos_tag_sent.txt\")\n",
    "pos_tag_feature = create_pos_tag_feature(X, pos_tags)\n",
    "lemmas_pos = extract_pos_lemmas(X)"
   ]
  },
  {
   "cell_type": "code",
   "execution_count": null,
   "metadata": {
    "collapsed": true
   },
   "outputs": [],
   "source": [
    "vectorizer = TfidfVectorizer(ngram_range=(1, 2))\n",
    "svc = LinearSVC(class_weight='auto')\n",
    "predicted = []\n",
    "gold = []\n",
    "f_measures = []\n",
    "for i in range(1, 6):\n",
    "    f_train = \"data/folds/\" + str(i) + \"/train.txt\"\n",
    "    f_test = \"data/folds/\" + str(i) + \"/test.txt\"\n",
    "    X_train, y_train = load_data(f_train)\n",
    "    X_test, y_test = load_data(f_test)\n",
    "    X_train_features = create_features(vectorizer, X_train, True)\n",
    "    svc.fit(X_train_features, y_train)\n",
    "    X_test_features = create_features(vectorizer, X_test, False)\n",
    "    predicted_fold = svc.predict(X_test_features)\n",
    "    predicted.extend(predicted_fold)\n",
    "    gold.extend(y_test)\n",
    "    f_measures.append(metrics.f1_score(y_test, predicted_fold, average='macro'))\n",
    "print f_measures\n",
    "print classification_report(gold, predicted, digits=3)\n",
    "print metrics.precision_score(gold, predicted, average='macro')\n",
    "print metrics.recall_score(gold, predicted, average='macro')\n",
    "print metrics.f1_score(gold, predicted, average='macro')"
   ]
  }
 ],
 "metadata": {
  "anaconda-cloud": {},
  "kernelspec": {
   "display_name": "Python [conda env:python2]",
   "language": "python",
   "name": "conda-env-python2-py"
  },
  "language_info": {
   "codemirror_mode": {
    "name": "ipython",
    "version": 2
   },
   "file_extension": ".py",
   "mimetype": "text/x-python",
   "name": "python",
   "nbconvert_exporter": "python",
   "pygments_lexer": "ipython2",
   "version": "2.7.13"
  }
 },
 "nbformat": 4,
 "nbformat_minor": 1
}
